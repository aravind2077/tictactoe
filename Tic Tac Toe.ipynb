{
 "cells": [
  {
   "cell_type": "code",
   "execution_count": 11,
   "id": "d0475076",
   "metadata": {
    "scrolled": true
   },
   "outputs": [],
   "source": [
    "#to display the board\n",
    "def display():\n",
    "    clear_output() # to clear screen, works only in Jupyter notebook\n",
    "    print(\"     |   |  \")\n",
    "    print(\"   \"+cell[0]+\" | \"+cell[1]+\" | \"+ cell[2])\n",
    "    print(\"     |   |  \")\n",
    "    print(\"===============\")\n",
    "    print(\"     |   |  \")\n",
    "    print(\"   \"+cell[3]+\" | \"+cell[4]+\" | \"+ cell[5])\n",
    "    print(\"     |   |  \")\n",
    "    print(\"===============\")\n",
    "    print(\"     |   |  \")\n",
    "    print(\"   \"+cell[6]+\" | \"+cell[7]+\" | \"+ cell[8])\n",
    "    print(\"     |   |  \")"
   ]
  },
  {
   "cell_type": "code",
   "execution_count": 12,
   "id": "e2698a0c",
   "metadata": {},
   "outputs": [],
   "source": [
    "# to place mark on board\n",
    "def place_slot(position, mark):\n",
    "    cell[position-1]= mark"
   ]
  },
  {
   "cell_type": "code",
   "execution_count": 13,
   "id": "93c2729b",
   "metadata": {},
   "outputs": [],
   "source": [
    "# to check if mark is made on board already\n",
    "def check_slot(position, slots_taken):\n",
    "    while position in slots_taken:\n",
    "        position= int(input(\"Slot already taken, Please use a different slot\"))\n",
    "    else:\n",
    "        return position"
   ]
  },
  {
   "cell_type": "code",
   "execution_count": 14,
   "id": "74fc3c94",
   "metadata": {},
   "outputs": [],
   "source": [
    "# to check if win condition has been satisfied or not\n",
    "def check_win():\n",
    "    if ((cell[0]==cell[1] and cell[1]==cell[2]) or (cell[3]==cell[4] and cell[4]==cell[5]) or (cell[6]==cell[7] and cell[7]==cell[8]) or (cell[0]==cell[3] and cell[3]==cell[6]) or (cell[1]==cell[4] and cell[1]==cell[7]) or (cell[2]==cell[5] and cell[5]==cell[8]) or (cell[0]==cell[4] and cell[4]==cell[8]) or (cell[2]==cell[4] and cell[4]==cell[6])):\n",
    "        return False\n",
    "    else:\n",
    "        return True\n",
    "        "
   ]
  },
  {
   "cell_type": "code",
   "execution_count": 15,
   "id": "3de1a0b9",
   "metadata": {},
   "outputs": [],
   "source": [
    "def check_draw(slots_taken):\n",
    "    if len(slots_taken) == 9:\n",
    "        print(\"Draw\")\n",
    "        return False"
   ]
  },
  {
   "cell_type": "code",
   "execution_count": 16,
   "id": "96ba5184",
   "metadata": {},
   "outputs": [],
   "source": [
    "import random\n",
    "from IPython.display import clear_output\n",
    "cell= ['1','2','3','4','5','6','7','8','9']"
   ]
  },
  {
   "cell_type": "code",
   "execution_count": 17,
   "id": "1c1e65f5",
   "metadata": {},
   "outputs": [],
   "source": [
    "def start():\n",
    "    slots_taken=[]\n",
    "    cell= ['1','2','3','4','5','6','7','8','9']\n",
    "    display()\n",
    "    game1= True\n",
    "    if random.randint(0, 1) == 0:\n",
    "        player= 'Player 2'\n",
    "    else:\n",
    "        player= 'Player 1'\n",
    "    print(player+\" goes first\")\n",
    "    while game1:\n",
    "        if player == 'Player 1':\n",
    "            con= check_draw(slots_taken)\n",
    "            if con== False:\n",
    "                break\n",
    "            position= int(input('Player 1 choose slot'))\n",
    "            position= check_slot(position, slots_taken)\n",
    "            place_slot(position, 'X')\n",
    "            slots_taken.append(position)\n",
    "            display()\n",
    "            con= check_win()\n",
    "            if con== False:\n",
    "                print(player+\" wins !!!\")\n",
    "                break\n",
    "            player= 'Player 2'\n",
    "        \n",
    "        else:\n",
    "            con= check_draw(slots_taken)\n",
    "            if con== False:\n",
    "                break\n",
    "            position= int(input('Player 2 choose slot'))\n",
    "            position= check_slot(position, slots_taken)\n",
    "            place_slot(position, 'O')\n",
    "            slots_taken.append(position)\n",
    "            display()\n",
    "            con= check_win()\n",
    "            if con== False:\n",
    "                print(player+\" wins !!!\")\n",
    "                break\n",
    "            player= 'Player 1'\n",
    "            "
   ]
  },
  {
   "cell_type": "code",
   "execution_count": 19,
   "id": "35b09ade",
   "metadata": {},
   "outputs": [
    {
     "name": "stdout",
     "output_type": "stream",
     "text": [
      "     |   |  \n",
      "   O | 2 | X\n",
      "     |   |  \n",
      "===============\n",
      "     |   |  \n",
      "   O | X | 6\n",
      "     |   |  \n",
      "===============\n",
      "     |   |  \n",
      "   X | 8 | 9\n",
      "     |   |  \n",
      "Player 1 wins !!!\n",
      "\n",
      "Thanks for playing\n",
      "\n",
      "Would you like to play TIC TAC TOE?\n",
      "YES OR NO\n",
      "no\n",
      "Goodbye!!!\n"
     ]
    }
   ],
   "source": [
    "game= True\n",
    "while(game):\n",
    "    print(\"Would you like to play TIC TAC TOE?\\nYES OR NO\")\n",
    "    play= input()\n",
    "    if play.lower() =='no':\n",
    "        print(\"Goodbye!!!\")\n",
    "        game= False\n",
    "    elif play.lower()== 'yes':\n",
    "        start()\n",
    "        print(\"\\nThanks for playing\\n\")\n",
    "    else:\n",
    "        print('\\nInvalid input! please try again\\n')\n",
    "        \n",
    "    "
   ]
  },
  {
   "cell_type": "code",
   "execution_count": 10,
   "id": "598f746a",
   "metadata": {},
   "outputs": [
    {
     "name": "stdout",
     "output_type": "stream",
     "text": [
      "     |   |  \n",
      "   1 | 2 | 3\n",
      "     |   |  \n",
      "===============\n",
      "     |   |  \n",
      "   4 | 5 | 6\n",
      "     |   |  \n",
      "===============\n",
      "     |   |  \n",
      "   7 | 8 | 9\n",
      "     |   |  \n"
     ]
    }
   ],
   "source": [
    "display()"
   ]
  },
  {
   "cell_type": "code",
   "execution_count": null,
   "id": "da794805",
   "metadata": {},
   "outputs": [],
   "source": []
  },
  {
   "cell_type": "code",
   "execution_count": 85,
   "id": "d0c77a53",
   "metadata": {},
   "outputs": [],
   "source": []
  },
  {
   "cell_type": "code",
   "execution_count": null,
   "id": "44391068",
   "metadata": {},
   "outputs": [],
   "source": []
  }
 ],
 "metadata": {
  "kernelspec": {
   "display_name": "Python 3",
   "language": "python",
   "name": "python3"
  },
  "language_info": {
   "codemirror_mode": {
    "name": "ipython",
    "version": 3
   },
   "file_extension": ".py",
   "mimetype": "text/x-python",
   "name": "python",
   "nbconvert_exporter": "python",
   "pygments_lexer": "ipython3",
   "version": "3.8.8"
  }
 },
 "nbformat": 4,
 "nbformat_minor": 5
}
